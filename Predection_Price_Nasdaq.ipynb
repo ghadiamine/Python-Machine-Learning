{
  "nbformat": 4,
  "nbformat_minor": 0,
  "metadata": {
    "colab": {
      "name": "Predection Price Nasdaq",
      "provenance": [],
      "authorship_tag": "ABX9TyPDJEvl7+YrbCoFMy3V39f6",
      "include_colab_link": true
    },
    "kernelspec": {
      "name": "python3",
      "display_name": "Python 3"
    },
    "language_info": {
      "name": "python"
    }
  },
  "cells": [
    {
      "cell_type": "markdown",
      "metadata": {
        "id": "view-in-github",
        "colab_type": "text"
      },
      "source": [
        "<a href=\"https://colab.research.google.com/github/ghadiamine/Python-Machine-Learning/blob/master/Predection_Price_Nasdaq.ipynb\" target=\"_parent\"><img src=\"https://colab.research.google.com/assets/colab-badge.svg\" alt=\"Open In Colab\"/></a>"
      ]
    },
    {
      "cell_type": "code",
      "metadata": {
        "id": "vqmMWwO9oHpZ"
      },
      "source": [
        ""
      ],
      "execution_count": null,
      "outputs": []
    },
    {
      "cell_type": "code",
      "metadata": {
        "colab": {
          "base_uri": "https://localhost:8080/"
        },
        "id": "o8IbvTcXoRa_",
        "outputId": "77eb4c3b-9cee-4e1a-cc76-9700ecbfcee4"
      },
      "source": [
        "pip install tensorflow"
      ],
      "execution_count": null,
      "outputs": [
        {
          "output_type": "stream",
          "name": "stdout",
          "text": [
            "Requirement already satisfied: tensorflow in /usr/local/lib/python3.7/dist-packages (2.6.0)\n",
            "Requirement already satisfied: keras-preprocessing~=1.1.2 in /usr/local/lib/python3.7/dist-packages (from tensorflow) (1.1.2)\n",
            "Requirement already satisfied: tensorflow-estimator~=2.6 in /usr/local/lib/python3.7/dist-packages (from tensorflow) (2.6.0)\n",
            "Requirement already satisfied: absl-py~=0.10 in /usr/local/lib/python3.7/dist-packages (from tensorflow) (0.12.0)\n",
            "Requirement already satisfied: termcolor~=1.1.0 in /usr/local/lib/python3.7/dist-packages (from tensorflow) (1.1.0)\n",
            "Requirement already satisfied: keras~=2.6 in /usr/local/lib/python3.7/dist-packages (from tensorflow) (2.6.0)\n",
            "Requirement already satisfied: typing-extensions~=3.7.4 in /usr/local/lib/python3.7/dist-packages (from tensorflow) (3.7.4.3)\n",
            "Requirement already satisfied: google-pasta~=0.2 in /usr/local/lib/python3.7/dist-packages (from tensorflow) (0.2.0)\n",
            "Requirement already satisfied: flatbuffers~=1.12.0 in /usr/local/lib/python3.7/dist-packages (from tensorflow) (1.12)\n",
            "Requirement already satisfied: tensorboard~=2.6 in /usr/local/lib/python3.7/dist-packages (from tensorflow) (2.6.0)\n",
            "Requirement already satisfied: wheel~=0.35 in /usr/local/lib/python3.7/dist-packages (from tensorflow) (0.37.0)\n",
            "Requirement already satisfied: grpcio<2.0,>=1.37.0 in /usr/local/lib/python3.7/dist-packages (from tensorflow) (1.40.0)\n",
            "Requirement already satisfied: protobuf>=3.9.2 in /usr/local/lib/python3.7/dist-packages (from tensorflow) (3.17.3)\n",
            "Requirement already satisfied: numpy~=1.19.2 in /usr/local/lib/python3.7/dist-packages (from tensorflow) (1.19.5)\n",
            "Requirement already satisfied: clang~=5.0 in /usr/local/lib/python3.7/dist-packages (from tensorflow) (5.0)\n",
            "Requirement already satisfied: six~=1.15.0 in /usr/local/lib/python3.7/dist-packages (from tensorflow) (1.15.0)\n",
            "Requirement already satisfied: astunparse~=1.6.3 in /usr/local/lib/python3.7/dist-packages (from tensorflow) (1.6.3)\n",
            "Requirement already satisfied: h5py~=3.1.0 in /usr/local/lib/python3.7/dist-packages (from tensorflow) (3.1.0)\n",
            "Requirement already satisfied: opt-einsum~=3.3.0 in /usr/local/lib/python3.7/dist-packages (from tensorflow) (3.3.0)\n",
            "Requirement already satisfied: wrapt~=1.12.1 in /usr/local/lib/python3.7/dist-packages (from tensorflow) (1.12.1)\n",
            "Requirement already satisfied: gast==0.4.0 in /usr/local/lib/python3.7/dist-packages (from tensorflow) (0.4.0)\n",
            "Requirement already satisfied: cached-property in /usr/local/lib/python3.7/dist-packages (from h5py~=3.1.0->tensorflow) (1.5.2)\n",
            "Requirement already satisfied: markdown>=2.6.8 in /usr/local/lib/python3.7/dist-packages (from tensorboard~=2.6->tensorflow) (3.3.4)\n",
            "Requirement already satisfied: requests<3,>=2.21.0 in /usr/local/lib/python3.7/dist-packages (from tensorboard~=2.6->tensorflow) (2.23.0)\n",
            "Requirement already satisfied: tensorboard-plugin-wit>=1.6.0 in /usr/local/lib/python3.7/dist-packages (from tensorboard~=2.6->tensorflow) (1.8.0)\n",
            "Requirement already satisfied: setuptools>=41.0.0 in /usr/local/lib/python3.7/dist-packages (from tensorboard~=2.6->tensorflow) (57.4.0)\n",
            "Requirement already satisfied: tensorboard-data-server<0.7.0,>=0.6.0 in /usr/local/lib/python3.7/dist-packages (from tensorboard~=2.6->tensorflow) (0.6.1)\n",
            "Requirement already satisfied: werkzeug>=0.11.15 in /usr/local/lib/python3.7/dist-packages (from tensorboard~=2.6->tensorflow) (1.0.1)\n",
            "Requirement already satisfied: google-auth-oauthlib<0.5,>=0.4.1 in /usr/local/lib/python3.7/dist-packages (from tensorboard~=2.6->tensorflow) (0.4.6)\n",
            "Requirement already satisfied: google-auth<2,>=1.6.3 in /usr/local/lib/python3.7/dist-packages (from tensorboard~=2.6->tensorflow) (1.35.0)\n",
            "Requirement already satisfied: cachetools<5.0,>=2.0.0 in /usr/local/lib/python3.7/dist-packages (from google-auth<2,>=1.6.3->tensorboard~=2.6->tensorflow) (4.2.2)\n",
            "Requirement already satisfied: pyasn1-modules>=0.2.1 in /usr/local/lib/python3.7/dist-packages (from google-auth<2,>=1.6.3->tensorboard~=2.6->tensorflow) (0.2.8)\n",
            "Requirement already satisfied: rsa<5,>=3.1.4 in /usr/local/lib/python3.7/dist-packages (from google-auth<2,>=1.6.3->tensorboard~=2.6->tensorflow) (4.7.2)\n",
            "Requirement already satisfied: requests-oauthlib>=0.7.0 in /usr/local/lib/python3.7/dist-packages (from google-auth-oauthlib<0.5,>=0.4.1->tensorboard~=2.6->tensorflow) (1.3.0)\n",
            "Requirement already satisfied: importlib-metadata in /usr/local/lib/python3.7/dist-packages (from markdown>=2.6.8->tensorboard~=2.6->tensorflow) (4.8.1)\n",
            "Requirement already satisfied: pyasn1<0.5.0,>=0.4.6 in /usr/local/lib/python3.7/dist-packages (from pyasn1-modules>=0.2.1->google-auth<2,>=1.6.3->tensorboard~=2.6->tensorflow) (0.4.8)\n",
            "Requirement already satisfied: certifi>=2017.4.17 in /usr/local/lib/python3.7/dist-packages (from requests<3,>=2.21.0->tensorboard~=2.6->tensorflow) (2021.5.30)\n",
            "Requirement already satisfied: urllib3!=1.25.0,!=1.25.1,<1.26,>=1.21.1 in /usr/local/lib/python3.7/dist-packages (from requests<3,>=2.21.0->tensorboard~=2.6->tensorflow) (1.24.3)\n",
            "Requirement already satisfied: chardet<4,>=3.0.2 in /usr/local/lib/python3.7/dist-packages (from requests<3,>=2.21.0->tensorboard~=2.6->tensorflow) (3.0.4)\n",
            "Requirement already satisfied: idna<3,>=2.5 in /usr/local/lib/python3.7/dist-packages (from requests<3,>=2.21.0->tensorboard~=2.6->tensorflow) (2.10)\n",
            "Requirement already satisfied: oauthlib>=3.0.0 in /usr/local/lib/python3.7/dist-packages (from requests-oauthlib>=0.7.0->google-auth-oauthlib<0.5,>=0.4.1->tensorboard~=2.6->tensorflow) (3.1.1)\n",
            "Requirement already satisfied: zipp>=0.5 in /usr/local/lib/python3.7/dist-packages (from importlib-metadata->markdown>=2.6.8->tensorboard~=2.6->tensorflow) (3.5.0)\n"
          ]
        }
      ]
    },
    {
      "cell_type": "code",
      "metadata": {
        "colab": {
          "base_uri": "https://localhost:8080/"
        },
        "id": "t9QdsiL1qd-h",
        "outputId": "8b68e9b6-adff-4c12-dce8-bccbcaa3d088"
      },
      "source": [
        "pip install keras"
      ],
      "execution_count": null,
      "outputs": [
        {
          "output_type": "stream",
          "name": "stdout",
          "text": [
            "Requirement already satisfied: keras in /usr/local/lib/python3.7/dist-packages (2.6.0)\n"
          ]
        }
      ]
    },
    {
      "cell_type": "code",
      "metadata": {
        "id": "ulD1L-s4qskq"
      },
      "source": [
        "import numpy as np \n",
        "import pandas as pd \n",
        "import matplotlib.pyplot as plt\n",
        "from math import sqrt\n",
        "from sklearn.metrics import mean_squared_error\n",
        "from sklearn.preprocessing import MinMaxScaler\n",
        "import seaborn as sns"
      ],
      "execution_count": null,
      "outputs": []
    },
    {
      "cell_type": "code",
      "metadata": {
        "id": "E7WqI0ZRrWCL",
        "colab": {
          "base_uri": "https://localhost:8080/"
        },
        "outputId": "379a1c5f-4aa3-4ea7-8ba2-c81fed63b461"
      },
      "source": [
        "pip install yfinance\n"
      ],
      "execution_count": null,
      "outputs": [
        {
          "output_type": "stream",
          "name": "stdout",
          "text": [
            "Requirement already satisfied: yfinance in /usr/local/lib/python3.7/dist-packages (0.1.63)\n",
            "Requirement already satisfied: requests>=2.20 in /usr/local/lib/python3.7/dist-packages (from yfinance) (2.23.0)\n",
            "Requirement already satisfied: lxml>=4.5.1 in /usr/local/lib/python3.7/dist-packages (from yfinance) (4.6.3)\n",
            "Requirement already satisfied: pandas>=0.24 in /usr/local/lib/python3.7/dist-packages (from yfinance) (1.1.5)\n",
            "Requirement already satisfied: numpy>=1.15 in /usr/local/lib/python3.7/dist-packages (from yfinance) (1.19.5)\n",
            "Requirement already satisfied: multitasking>=0.0.7 in /usr/local/lib/python3.7/dist-packages (from yfinance) (0.0.9)\n",
            "Requirement already satisfied: python-dateutil>=2.7.3 in /usr/local/lib/python3.7/dist-packages (from pandas>=0.24->yfinance) (2.8.2)\n",
            "Requirement already satisfied: pytz>=2017.2 in /usr/local/lib/python3.7/dist-packages (from pandas>=0.24->yfinance) (2018.9)\n",
            "Requirement already satisfied: six>=1.5 in /usr/local/lib/python3.7/dist-packages (from python-dateutil>=2.7.3->pandas>=0.24->yfinance) (1.15.0)\n",
            "Requirement already satisfied: certifi>=2017.4.17 in /usr/local/lib/python3.7/dist-packages (from requests>=2.20->yfinance) (2021.5.30)\n",
            "Requirement already satisfied: idna<3,>=2.5 in /usr/local/lib/python3.7/dist-packages (from requests>=2.20->yfinance) (2.10)\n",
            "Requirement already satisfied: chardet<4,>=3.0.2 in /usr/local/lib/python3.7/dist-packages (from requests>=2.20->yfinance) (3.0.4)\n",
            "Requirement already satisfied: urllib3!=1.25.0,!=1.25.1,<1.26,>=1.21.1 in /usr/local/lib/python3.7/dist-packages (from requests>=2.20->yfinance) (1.24.3)\n"
          ]
        }
      ]
    },
    {
      "cell_type": "code",
      "metadata": {
        "id": "_4I2sVgVm6pV"
      },
      "source": [
        "import yfinance as yf"
      ],
      "execution_count": null,
      "outputs": []
    },
    {
      "cell_type": "code",
      "metadata": {
        "id": "w2Uc39msoLw-"
      },
      "source": [
        ""
      ],
      "execution_count": null,
      "outputs": []
    },
    {
      "cell_type": "code",
      "metadata": {
        "colab": {
          "base_uri": "https://localhost:8080/",
          "height": 472
        },
        "id": "HUvIT0Lyqzkc",
        "outputId": "3aa132e6-4f1b-40b1-d52e-844b1e223850"
      },
      "source": [
        "#Interval required 15 minutes\n",
        "df = yf.download(tickers='NDAQ', period='60D', interval='15m')\n",
        "#Print data\n",
        "df\n"
      ],
      "execution_count": null,
      "outputs": [
        {
          "output_type": "stream",
          "name": "stdout",
          "text": [
            "\r[*********************100%***********************]  1 of 1 completed\n"
          ]
        },
        {
          "output_type": "execute_result",
          "data": {
            "text/html": [
              "<div>\n",
              "<style scoped>\n",
              "    .dataframe tbody tr th:only-of-type {\n",
              "        vertical-align: middle;\n",
              "    }\n",
              "\n",
              "    .dataframe tbody tr th {\n",
              "        vertical-align: top;\n",
              "    }\n",
              "\n",
              "    .dataframe thead th {\n",
              "        text-align: right;\n",
              "    }\n",
              "</style>\n",
              "<table border=\"1\" class=\"dataframe\">\n",
              "  <thead>\n",
              "    <tr style=\"text-align: right;\">\n",
              "      <th></th>\n",
              "      <th>Open</th>\n",
              "      <th>High</th>\n",
              "      <th>Low</th>\n",
              "      <th>Close</th>\n",
              "      <th>Adj Close</th>\n",
              "      <th>Volume</th>\n",
              "    </tr>\n",
              "    <tr>\n",
              "      <th>Datetime</th>\n",
              "      <th></th>\n",
              "      <th></th>\n",
              "      <th></th>\n",
              "      <th></th>\n",
              "      <th></th>\n",
              "      <th></th>\n",
              "    </tr>\n",
              "  </thead>\n",
              "  <tbody>\n",
              "    <tr>\n",
              "      <th>2021-07-06 09:30:00-04:00</th>\n",
              "      <td>178.279999</td>\n",
              "      <td>178.410294</td>\n",
              "      <td>177.360001</td>\n",
              "      <td>177.490005</td>\n",
              "      <td>177.490005</td>\n",
              "      <td>46574</td>\n",
              "    </tr>\n",
              "    <tr>\n",
              "      <th>2021-07-06 09:45:00-04:00</th>\n",
              "      <td>177.600006</td>\n",
              "      <td>177.710007</td>\n",
              "      <td>177.000000</td>\n",
              "      <td>177.000000</td>\n",
              "      <td>177.000000</td>\n",
              "      <td>26177</td>\n",
              "    </tr>\n",
              "    <tr>\n",
              "      <th>2021-07-06 10:00:00-04:00</th>\n",
              "      <td>176.949997</td>\n",
              "      <td>177.139999</td>\n",
              "      <td>176.570007</td>\n",
              "      <td>176.770004</td>\n",
              "      <td>176.770004</td>\n",
              "      <td>11499</td>\n",
              "    </tr>\n",
              "    <tr>\n",
              "      <th>2021-07-06 10:15:00-04:00</th>\n",
              "      <td>176.845001</td>\n",
              "      <td>176.845001</td>\n",
              "      <td>175.820007</td>\n",
              "      <td>176.225006</td>\n",
              "      <td>176.225006</td>\n",
              "      <td>31280</td>\n",
              "    </tr>\n",
              "    <tr>\n",
              "      <th>2021-07-06 10:30:00-04:00</th>\n",
              "      <td>176.119995</td>\n",
              "      <td>176.199997</td>\n",
              "      <td>175.740005</td>\n",
              "      <td>176.199997</td>\n",
              "      <td>176.199997</td>\n",
              "      <td>11612</td>\n",
              "    </tr>\n",
              "    <tr>\n",
              "      <th>...</th>\n",
              "      <td>...</td>\n",
              "      <td>...</td>\n",
              "      <td>...</td>\n",
              "      <td>...</td>\n",
              "      <td>...</td>\n",
              "      <td>...</td>\n",
              "    </tr>\n",
              "    <tr>\n",
              "      <th>2021-09-28 10:15:00-04:00</th>\n",
              "      <td>190.684998</td>\n",
              "      <td>190.710007</td>\n",
              "      <td>189.380005</td>\n",
              "      <td>190.024994</td>\n",
              "      <td>190.024994</td>\n",
              "      <td>33161</td>\n",
              "    </tr>\n",
              "    <tr>\n",
              "      <th>2021-09-28 10:30:00-04:00</th>\n",
              "      <td>190.250000</td>\n",
              "      <td>192.029999</td>\n",
              "      <td>189.960007</td>\n",
              "      <td>191.979996</td>\n",
              "      <td>191.979996</td>\n",
              "      <td>63689</td>\n",
              "    </tr>\n",
              "    <tr>\n",
              "      <th>2021-09-28 10:45:00-04:00</th>\n",
              "      <td>192.000000</td>\n",
              "      <td>192.149994</td>\n",
              "      <td>191.479996</td>\n",
              "      <td>192.020004</td>\n",
              "      <td>192.020004</td>\n",
              "      <td>106440</td>\n",
              "    </tr>\n",
              "    <tr>\n",
              "      <th>2021-09-28 11:00:00-04:00</th>\n",
              "      <td>192.240005</td>\n",
              "      <td>192.470001</td>\n",
              "      <td>191.960007</td>\n",
              "      <td>192.050003</td>\n",
              "      <td>192.050003</td>\n",
              "      <td>31376</td>\n",
              "    </tr>\n",
              "    <tr>\n",
              "      <th>2021-09-28 11:06:34-04:00</th>\n",
              "      <td>191.972504</td>\n",
              "      <td>191.972504</td>\n",
              "      <td>191.972504</td>\n",
              "      <td>191.972504</td>\n",
              "      <td>191.972504</td>\n",
              "      <td>0</td>\n",
              "    </tr>\n",
              "  </tbody>\n",
              "</table>\n",
              "<p>1542 rows × 6 columns</p>\n",
              "</div>"
            ],
            "text/plain": [
              "                                 Open        High  ...   Adj Close  Volume\n",
              "Datetime                                           ...                    \n",
              "2021-07-06 09:30:00-04:00  178.279999  178.410294  ...  177.490005   46574\n",
              "2021-07-06 09:45:00-04:00  177.600006  177.710007  ...  177.000000   26177\n",
              "2021-07-06 10:00:00-04:00  176.949997  177.139999  ...  176.770004   11499\n",
              "2021-07-06 10:15:00-04:00  176.845001  176.845001  ...  176.225006   31280\n",
              "2021-07-06 10:30:00-04:00  176.119995  176.199997  ...  176.199997   11612\n",
              "...                               ...         ...  ...         ...     ...\n",
              "2021-09-28 10:15:00-04:00  190.684998  190.710007  ...  190.024994   33161\n",
              "2021-09-28 10:30:00-04:00  190.250000  192.029999  ...  191.979996   63689\n",
              "2021-09-28 10:45:00-04:00  192.000000  192.149994  ...  192.020004  106440\n",
              "2021-09-28 11:00:00-04:00  192.240005  192.470001  ...  192.050003   31376\n",
              "2021-09-28 11:06:34-04:00  191.972504  191.972504  ...  191.972504       0\n",
              "\n",
              "[1542 rows x 6 columns]"
            ]
          },
          "metadata": {},
          "execution_count": 9
        }
      ]
    },
    {
      "cell_type": "code",
      "metadata": {
        "colab": {
          "base_uri": "https://localhost:8080/",
          "height": 450
        },
        "id": "tp6ewoOCDvYj",
        "outputId": "f81729dd-f19e-4d54-a01b-202843bb9ac4"
      },
      "source": [
        ""
      ],
      "execution_count": null,
      "outputs": [
        {
          "output_type": "execute_result",
          "data": {
            "text/html": [
              "<div>\n",
              "<style scoped>\n",
              "    .dataframe tbody tr th:only-of-type {\n",
              "        vertical-align: middle;\n",
              "    }\n",
              "\n",
              "    .dataframe tbody tr th {\n",
              "        vertical-align: top;\n",
              "    }\n",
              "\n",
              "    .dataframe thead th {\n",
              "        text-align: right;\n",
              "    }\n",
              "</style>\n",
              "<table border=\"1\" class=\"dataframe\">\n",
              "  <thead>\n",
              "    <tr style=\"text-align: right;\">\n",
              "      <th></th>\n",
              "      <th>Open</th>\n",
              "      <th>High</th>\n",
              "      <th>Low</th>\n",
              "      <th>Close</th>\n",
              "      <th>Adj Close</th>\n",
              "      <th>Volume</th>\n",
              "    </tr>\n",
              "    <tr>\n",
              "      <th>Datetime</th>\n",
              "      <th></th>\n",
              "      <th></th>\n",
              "      <th></th>\n",
              "      <th></th>\n",
              "      <th></th>\n",
              "      <th></th>\n",
              "    </tr>\n",
              "  </thead>\n",
              "  <tbody>\n",
              "    <tr>\n",
              "      <th>2021-06-25 09:30:00-04:00</th>\n",
              "      <td>178.589996</td>\n",
              "      <td>178.928604</td>\n",
              "      <td>178.000000</td>\n",
              "      <td>178.350006</td>\n",
              "      <td>178.350006</td>\n",
              "      <td>34084</td>\n",
              "    </tr>\n",
              "    <tr>\n",
              "      <th>2021-06-25 09:45:00-04:00</th>\n",
              "      <td>178.419998</td>\n",
              "      <td>178.699997</td>\n",
              "      <td>178.130005</td>\n",
              "      <td>178.339996</td>\n",
              "      <td>178.339996</td>\n",
              "      <td>34241</td>\n",
              "    </tr>\n",
              "    <tr>\n",
              "      <th>2021-06-25 10:00:00-04:00</th>\n",
              "      <td>178.335007</td>\n",
              "      <td>178.335007</td>\n",
              "      <td>177.929993</td>\n",
              "      <td>178.057495</td>\n",
              "      <td>178.057495</td>\n",
              "      <td>12790</td>\n",
              "    </tr>\n",
              "    <tr>\n",
              "      <th>2021-06-25 10:15:00-04:00</th>\n",
              "      <td>177.990005</td>\n",
              "      <td>178.156006</td>\n",
              "      <td>177.919998</td>\n",
              "      <td>178.156006</td>\n",
              "      <td>178.156006</td>\n",
              "      <td>22314</td>\n",
              "    </tr>\n",
              "    <tr>\n",
              "      <th>2021-06-25 10:30:00-04:00</th>\n",
              "      <td>178.115005</td>\n",
              "      <td>178.309998</td>\n",
              "      <td>177.970001</td>\n",
              "      <td>178.149994</td>\n",
              "      <td>178.149994</td>\n",
              "      <td>20414</td>\n",
              "    </tr>\n",
              "    <tr>\n",
              "      <th>...</th>\n",
              "      <td>...</td>\n",
              "      <td>...</td>\n",
              "      <td>...</td>\n",
              "      <td>...</td>\n",
              "      <td>...</td>\n",
              "      <td>...</td>\n",
              "    </tr>\n",
              "    <tr>\n",
              "      <th>2021-09-20 15:00:00-04:00</th>\n",
              "      <td>189.384995</td>\n",
              "      <td>189.509995</td>\n",
              "      <td>188.990005</td>\n",
              "      <td>189.139999</td>\n",
              "      <td>189.139999</td>\n",
              "      <td>22110</td>\n",
              "    </tr>\n",
              "    <tr>\n",
              "      <th>2021-09-20 15:15:00-04:00</th>\n",
              "      <td>189.250000</td>\n",
              "      <td>190.100006</td>\n",
              "      <td>189.110001</td>\n",
              "      <td>190.050003</td>\n",
              "      <td>190.050003</td>\n",
              "      <td>39228</td>\n",
              "    </tr>\n",
              "    <tr>\n",
              "      <th>2021-09-20 15:30:00-04:00</th>\n",
              "      <td>190.059998</td>\n",
              "      <td>190.839996</td>\n",
              "      <td>189.850098</td>\n",
              "      <td>190.800003</td>\n",
              "      <td>190.800003</td>\n",
              "      <td>48571</td>\n",
              "    </tr>\n",
              "    <tr>\n",
              "      <th>2021-09-20 15:45:00-04:00</th>\n",
              "      <td>190.839996</td>\n",
              "      <td>191.100006</td>\n",
              "      <td>190.580002</td>\n",
              "      <td>190.990005</td>\n",
              "      <td>190.990005</td>\n",
              "      <td>81365</td>\n",
              "    </tr>\n",
              "    <tr>\n",
              "      <th>2021-09-20 16:00:00-04:00</th>\n",
              "      <td>190.979996</td>\n",
              "      <td>190.979996</td>\n",
              "      <td>190.979996</td>\n",
              "      <td>190.979996</td>\n",
              "      <td>190.979996</td>\n",
              "      <td>0</td>\n",
              "    </tr>\n",
              "  </tbody>\n",
              "</table>\n",
              "<p>1561 rows × 6 columns</p>\n",
              "</div>"
            ],
            "text/plain": [
              "                                 Open        High         Low       Close  \\\n",
              "Datetime                                                                    \n",
              "2021-06-25 09:30:00-04:00  178.589996  178.928604  178.000000  178.350006   \n",
              "2021-06-25 09:45:00-04:00  178.419998  178.699997  178.130005  178.339996   \n",
              "2021-06-25 10:00:00-04:00  178.335007  178.335007  177.929993  178.057495   \n",
              "2021-06-25 10:15:00-04:00  177.990005  178.156006  177.919998  178.156006   \n",
              "2021-06-25 10:30:00-04:00  178.115005  178.309998  177.970001  178.149994   \n",
              "...                               ...         ...         ...         ...   \n",
              "2021-09-20 15:00:00-04:00  189.384995  189.509995  188.990005  189.139999   \n",
              "2021-09-20 15:15:00-04:00  189.250000  190.100006  189.110001  190.050003   \n",
              "2021-09-20 15:30:00-04:00  190.059998  190.839996  189.850098  190.800003   \n",
              "2021-09-20 15:45:00-04:00  190.839996  191.100006  190.580002  190.990005   \n",
              "2021-09-20 16:00:00-04:00  190.979996  190.979996  190.979996  190.979996   \n",
              "\n",
              "                            Adj Close  Volume  \n",
              "Datetime                                       \n",
              "2021-06-25 09:30:00-04:00  178.350006   34084  \n",
              "2021-06-25 09:45:00-04:00  178.339996   34241  \n",
              "2021-06-25 10:00:00-04:00  178.057495   12790  \n",
              "2021-06-25 10:15:00-04:00  178.156006   22314  \n",
              "2021-06-25 10:30:00-04:00  178.149994   20414  \n",
              "...                               ...     ...  \n",
              "2021-09-20 15:00:00-04:00  189.139999   22110  \n",
              "2021-09-20 15:15:00-04:00  190.050003   39228  \n",
              "2021-09-20 15:30:00-04:00  190.800003   48571  \n",
              "2021-09-20 15:45:00-04:00  190.990005   81365  \n",
              "2021-09-20 16:00:00-04:00  190.979996       0  \n",
              "\n",
              "[1561 rows x 6 columns]"
            ]
          },
          "metadata": {},
          "execution_count": 15
        }
      ]
    },
    {
      "cell_type": "code",
      "metadata": {
        "colab": {
          "base_uri": "https://localhost:8080/"
        },
        "id": "I8DHQgDVparh",
        "outputId": "167aecdb-f2a0-43f2-d6a3-0200b1b1c40f"
      },
      "source": [
        "df.shape\n"
      ],
      "execution_count": null,
      "outputs": [
        {
          "output_type": "execute_result",
          "data": {
            "text/plain": [
              "(1561, 6)"
            ]
          },
          "metadata": {},
          "execution_count": 12
        }
      ]
    },
    {
      "cell_type": "code",
      "metadata": {
        "id": "6SNhZJPOrUkV"
      },
      "source": [
        "df.rename(str.lower, axis='columns',inplace=True)"
      ],
      "execution_count": null,
      "outputs": []
    },
    {
      "cell_type": "code",
      "metadata": {
        "id": "W4WnQBN5rxiB"
      },
      "source": [
        "df.drop(['adj close'],axis=1,inplace=True)"
      ],
      "execution_count": null,
      "outputs": []
    },
    {
      "cell_type": "code",
      "metadata": {
        "colab": {
          "base_uri": "https://localhost:8080/"
        },
        "id": "DwfIIDZdtRyp",
        "outputId": "18553cf9-d609-4e02-9059-6168c6bbaa65"
      },
      "source": [
        "df.isnull().any()#We don't have any NaN values luckily"
      ],
      "execution_count": null,
      "outputs": [
        {
          "output_type": "execute_result",
          "data": {
            "text/plain": [
              "open      False\n",
              "high      False\n",
              "low       False\n",
              "close     False\n",
              "volume    False\n",
              "dtype: bool"
            ]
          },
          "metadata": {},
          "execution_count": 12
        }
      ]
    },
    {
      "cell_type": "code",
      "metadata": {
        "colab": {
          "base_uri": "https://localhost:8080/"
        },
        "id": "KcXah5rlu18M",
        "outputId": "a5b825a3-f67a-4079-b964-ff00021092d7"
      },
      "source": [
        "df.shape #We can see that we have 1560 observations for nazdaq here"
      ],
      "execution_count": null,
      "outputs": [
        {
          "output_type": "execute_result",
          "data": {
            "text/plain": [
              "(4679, 5)"
            ]
          },
          "metadata": {},
          "execution_count": 13
        }
      ]
    },
    {
      "cell_type": "code",
      "metadata": {
        "colab": {
          "base_uri": "https://localhost:8080/",
          "height": 409
        },
        "id": "pOnOdixdvAIt",
        "outputId": "9b96cbe3-85d2-45aa-de98-fba72a1f0877"
      },
      "source": [
        "sns.set()\n",
        "sns.set_style('whitegrid')\n",
        "df['close'].plot(figsize=(12,6),label='close')\n",
        "df['close'].rolling(window=288).mean().plot(label='tow day back Avg')# Plotting the \n",
        "#rolling 30 back average against the Close Price\n",
        "plt.legend()"
      ],
      "execution_count": null,
      "outputs": [
        {
          "output_type": "execute_result",
          "data": {
            "text/plain": [
              "<matplotlib.legend.Legend at 0x7f9ce667ea10>"
            ]
          },
          "metadata": {},
          "execution_count": 14
        },
        {
          "output_type": "display_data",
          "data": {
            "image/png": "[encoded data removed]",
            "text/plain": [
              "<Figure size 864x432 with 1 Axes>"
            ]
          },
          "metadata": {}
        }
      ]
    },
    {
      "cell_type": "code",
      "metadata": {
        "id": "wAbXIKXowIXe"
      },
      "source": [
        "df['ohlc_average'] = (df['open'] + df['high'] + df['low'] + df['close']) / 4"
      ],
      "execution_count": null,
      "outputs": []
    },
    {
      "cell_type": "code",
      "metadata": {
        "id": "GodaGUPC0cjw"
      },
      "source": [
        "df['Price_After_back']=df['close'].shift(-96) #This will be our label"
      ],
      "execution_count": null,
      "outputs": []
    },
    {
      "cell_type": "code",
      "metadata": {
        "colab": {
          "base_uri": "https://localhost:8080/",
          "height": 235
        },
        "id": "fbW-fag60wws",
        "outputId": "b88c4df3-af89-41b3-b829-44e29f7dca24"
      },
      "source": [
        "df.tail()#We basically moved all our values 2 days  lines up in our last cell"
      ],
      "execution_count": null,
      "outputs": [
        {
          "output_type": "execute_result",
          "data": {
            "text/html": [
              "<div>\n",
              "<style scoped>\n",
              "    .dataframe tbody tr th:only-of-type {\n",
              "        vertical-align: middle;\n",
              "    }\n",
              "\n",
              "    .dataframe tbody tr th {\n",
              "        vertical-align: top;\n",
              "    }\n",
              "\n",
              "    .dataframe thead th {\n",
              "        text-align: right;\n",
              "    }\n",
              "</style>\n",
              "<table border=\"1\" class=\"dataframe\">\n",
              "  <thead>\n",
              "    <tr style=\"text-align: right;\">\n",
              "      <th></th>\n",
              "      <th>open</th>\n",
              "      <th>high</th>\n",
              "      <th>low</th>\n",
              "      <th>close</th>\n",
              "      <th>volume</th>\n",
              "      <th>ohlc_average</th>\n",
              "      <th>Price_After_back</th>\n",
              "    </tr>\n",
              "    <tr>\n",
              "      <th>Datetime</th>\n",
              "      <th></th>\n",
              "      <th></th>\n",
              "      <th></th>\n",
              "      <th></th>\n",
              "      <th></th>\n",
              "      <th></th>\n",
              "      <th></th>\n",
              "    </tr>\n",
              "  </thead>\n",
              "  <tbody>\n",
              "    <tr>\n",
              "      <th>2021-09-17 15:35:00-04:00</th>\n",
              "      <td>193.529999</td>\n",
              "      <td>193.789993</td>\n",
              "      <td>193.454300</td>\n",
              "      <td>193.649994</td>\n",
              "      <td>11205</td>\n",
              "      <td>193.606071</td>\n",
              "      <td>NaN</td>\n",
              "    </tr>\n",
              "    <tr>\n",
              "      <th>2021-09-17 15:40:00-04:00</th>\n",
              "      <td>193.699997</td>\n",
              "      <td>193.779999</td>\n",
              "      <td>193.595001</td>\n",
              "      <td>193.740005</td>\n",
              "      <td>25024</td>\n",
              "      <td>193.703751</td>\n",
              "      <td>NaN</td>\n",
              "    </tr>\n",
              "    <tr>\n",
              "      <th>2021-09-17 15:45:00-04:00</th>\n",
              "      <td>193.779999</td>\n",
              "      <td>193.779999</td>\n",
              "      <td>193.020096</td>\n",
              "      <td>193.024994</td>\n",
              "      <td>10641</td>\n",
              "      <td>193.401272</td>\n",
              "      <td>NaN</td>\n",
              "    </tr>\n",
              "    <tr>\n",
              "      <th>2021-09-17 15:50:00-04:00</th>\n",
              "      <td>193.000000</td>\n",
              "      <td>193.000000</td>\n",
              "      <td>191.000000</td>\n",
              "      <td>192.020004</td>\n",
              "      <td>93098</td>\n",
              "      <td>192.255001</td>\n",
              "      <td>NaN</td>\n",
              "    </tr>\n",
              "    <tr>\n",
              "      <th>2021-09-17 15:55:00-04:00</th>\n",
              "      <td>192.240005</td>\n",
              "      <td>193.300003</td>\n",
              "      <td>192.240005</td>\n",
              "      <td>192.929993</td>\n",
              "      <td>64095</td>\n",
              "      <td>192.677502</td>\n",
              "      <td>NaN</td>\n",
              "    </tr>\n",
              "  </tbody>\n",
              "</table>\n",
              "</div>"
            ],
            "text/plain": [
              "                                 open  ...  Price_After_back\n",
              "Datetime                               ...                  \n",
              "2021-09-17 15:35:00-04:00  193.529999  ...               NaN\n",
              "2021-09-17 15:40:00-04:00  193.699997  ...               NaN\n",
              "2021-09-17 15:45:00-04:00  193.779999  ...               NaN\n",
              "2021-09-17 15:50:00-04:00  193.000000  ...               NaN\n",
              "2021-09-17 15:55:00-04:00  192.240005  ...               NaN\n",
              "\n",
              "[5 rows x 7 columns]"
            ]
          },
          "metadata": {},
          "execution_count": 17
        }
      ]
    },
    {
      "cell_type": "code",
      "metadata": {
        "id": "6rvh7NlX63Jp"
      },
      "source": [
        ""
      ],
      "execution_count": null,
      "outputs": []
    },
    {
      "cell_type": "code",
      "metadata": {
        "id": "VVKRpObB1HHs"
      },
      "source": [
        "#Preprocessing\n",
        "from sklearn import preprocessing\n",
        "df.dropna(inplace=True)\n",
        "X=df.drop('Price_After_back',axis=1)\n",
        "X=preprocessing.scale(X)#We need to scale our values to input them in our model\n",
        "y=df['Price_After_back']"
      ],
      "execution_count": null,
      "outputs": []
    },
    {
      "cell_type": "code",
      "metadata": {
        "id": "XGYgVS7r7MOy"
      },
      "source": [
        "from sklearn.model_selection import train_test_split"
      ],
      "execution_count": null,
      "outputs": []
    },
    {
      "cell_type": "code",
      "metadata": {
        "id": "vwFWrSzj141b"
      },
      "source": [
        "X_train, X_test, y_train, y_test = train_test_split(\n",
        " X, y, test_size=0.3, random_state=101)"
      ],
      "execution_count": null,
      "outputs": []
    },
    {
      "cell_type": "code",
      "metadata": {
        "colab": {
          "base_uri": "https://localhost:8080/"
        },
        "id": "9Bv0BPoS2Gai",
        "outputId": "631c0e1e-53d8-4c14-8e2f-ecfa481bfc6d"
      },
      "source": [
        "from sklearn.ensemble import RandomForestRegressor\n",
        "reg=RandomForestRegressor(n_estimators=200,random_state=101)\n",
        "reg.fit(X_train,y_train)\n",
        "accuracy=reg.score(X_test,y_test)\n",
        "accuracy=accuracy*100\n",
        "accuracy = float(\"{0:.4f}\".format(accuracy))\n",
        "print('Accuracy is:',accuracy,'%')#This percentage shows how much our regression fits our data"
      ],
      "execution_count": null,
      "outputs": [
        {
          "output_type": "stream",
          "name": "stdout",
          "text": [
            "Accuracy is: 95.5626 %\n"
          ]
        }
      ]
    },
    {
      "cell_type": "code",
      "metadata": {
        "colab": {
          "base_uri": "https://localhost:8080/"
        },
        "id": "2_2zNarX3BsG",
        "outputId": "204f1fe8-2c8d-427f-e32e-58cdbf5de0f4"
      },
      "source": [
        "preds = reg.predict(X_test)\n",
        "print(\"The prediction is:\",preds[3],\"But the real value is:\" ,y_test[3])\n",
        "#We can see that our predictions are kind of accurate but we still need to work on on them a lot. "
      ],
      "execution_count": null,
      "outputs": [
        {
          "output_type": "stream",
          "name": "stdout",
          "text": [
            "The prediction is: 196.06517593383788 But the real value is: 195.00999450683594\n"
          ]
        }
      ]
    },
    {
      "cell_type": "code",
      "metadata": {
        "id": "zHHJHoFL7_JG"
      },
      "source": [
        "#Apply our model and get our prediction\n",
        "X_30=X[-96:]#We'll take the last 30 elements to make our predictions on them\n",
        "forecast=reg.predict(X_30)"
      ],
      "execution_count": null,
      "outputs": []
    },
    {
      "cell_type": "code",
      "metadata": {
        "colab": {
          "base_uri": "https://localhost:8080/",
          "height": 204
        },
        "id": "q8PYiwyP8Kz-",
        "outputId": "4fdb41c4-bd6f-4c97-ace2-eb765c53e842"
      },
      "source": [
        "#creating a new column which contains the predictions! \n",
        "#Proceed at your own risk!  \n",
        "from datetime import datetime, timedelta\n",
        "last_date=df.iloc[-1].name\n",
        "modified_date = last_date + timedelta(minutes=0)\n",
        "date=pd.date_range(modified_date,periods=96,freq='15m')\n",
        "df1=pd.DataFrame(forecast,columns=['Forecast'],index=date)\n",
        "df=df.append(df1)\n",
        "df1.head()"
      ],
      "execution_count": null,
      "outputs": [
        {
          "output_type": "execute_result",
          "data": {
            "text/html": [
              "<div>\n",
              "<style scoped>\n",
              "    .dataframe tbody tr th:only-of-type {\n",
              "        vertical-align: middle;\n",
              "    }\n",
              "\n",
              "    .dataframe tbody tr th {\n",
              "        vertical-align: top;\n",
              "    }\n",
              "\n",
              "    .dataframe thead th {\n",
              "        text-align: right;\n",
              "    }\n",
              "</style>\n",
              "<table border=\"1\" class=\"dataframe\">\n",
              "  <thead>\n",
              "    <tr style=\"text-align: right;\">\n",
              "      <th></th>\n",
              "      <th>Forecast</th>\n",
              "    </tr>\n",
              "  </thead>\n",
              "  <tbody>\n",
              "    <tr>\n",
              "      <th>2021-09-30 14:25:00-04:00</th>\n",
              "      <td>197.083548</td>\n",
              "    </tr>\n",
              "    <tr>\n",
              "      <th>2022-12-31 14:25:00-05:00</th>\n",
              "      <td>196.214228</td>\n",
              "    </tr>\n",
              "    <tr>\n",
              "      <th>2024-03-31 14:25:00-04:00</th>\n",
              "      <td>195.736954</td>\n",
              "    </tr>\n",
              "    <tr>\n",
              "      <th>2025-06-30 14:25:00-04:00</th>\n",
              "      <td>195.981921</td>\n",
              "    </tr>\n",
              "    <tr>\n",
              "      <th>2026-09-30 14:25:00-04:00</th>\n",
              "      <td>196.530773</td>\n",
              "    </tr>\n",
              "  </tbody>\n",
              "</table>\n",
              "</div>"
            ],
            "text/plain": [
              "                             Forecast\n",
              "2021-09-30 14:25:00-04:00  197.083548\n",
              "2022-12-31 14:25:00-05:00  196.214228\n",
              "2024-03-31 14:25:00-04:00  195.736954\n",
              "2025-06-30 14:25:00-04:00  195.981921\n",
              "2026-09-30 14:25:00-04:00  196.530773"
            ]
          },
          "metadata": {},
          "execution_count": 33
        }
      ]
    },
    {
      "cell_type": "code",
      "metadata": {
        "colab": {
          "base_uri": "https://localhost:8080/"
        },
        "id": "GQCqI8fDRyj0",
        "outputId": "7fa60b51-9c9e-48f0-f549-12db795f7f2d"
      },
      "source": [
        "date"
      ],
      "execution_count": null,
      "outputs": [
        {
          "output_type": "execute_result",
          "data": {
            "text/plain": [
              "DatetimeIndex(['2021-09-30 14:25:00-04:00', '2022-12-31 14:25:00-05:00'], dtype='datetime64[ns, America/New_York]', freq='15M')"
            ]
          },
          "metadata": {},
          "execution_count": 29
        }
      ]
    },
    {
      "cell_type": "code",
      "metadata": {
        "colab": {
          "base_uri": "https://localhost:8080/",
          "height": 656
        },
        "id": "a8XrJbds86NM",
        "outputId": "17512015-29a5-4518-a413-e629461221c3"
      },
      "source": [
        "#Now we'll plot our forecast! \n",
        "df['close'].plot(figsize=(12,6),label='Close')\n",
        "df['Forecast'].plot(label='forecast')\n",
        "df.legend()"
      ],
      "execution_count": null,
      "outputs": [
        {
          "output_type": "error",
          "ename": "AttributeError",
          "evalue": "ignored",
          "traceback": [
            "\u001b[0;31m---------------------------------------------------------------------------\u001b[0m",
            "\u001b[0;31mAttributeError\u001b[0m                            Traceback (most recent call last)",
            "\u001b[0;32m<ipython-input-25-4350acfef6a3>\u001b[0m in \u001b[0;36m<module>\u001b[0;34m()\u001b[0m\n\u001b[1;32m      2\u001b[0m \u001b[0mdf\u001b[0m\u001b[0;34m[\u001b[0m\u001b[0;34m'close'\u001b[0m\u001b[0;34m]\u001b[0m\u001b[0;34m.\u001b[0m\u001b[0mplot\u001b[0m\u001b[0;34m(\u001b[0m\u001b[0mfigsize\u001b[0m\u001b[0;34m=\u001b[0m\u001b[0;34m(\u001b[0m\u001b[0;36m12\u001b[0m\u001b[0;34m,\u001b[0m\u001b[0;36m6\u001b[0m\u001b[0;34m)\u001b[0m\u001b[0;34m,\u001b[0m\u001b[0mlabel\u001b[0m\u001b[0;34m=\u001b[0m\u001b[0;34m'Close'\u001b[0m\u001b[0;34m)\u001b[0m\u001b[0;34m\u001b[0m\u001b[0;34m\u001b[0m\u001b[0m\n\u001b[1;32m      3\u001b[0m \u001b[0mdf\u001b[0m\u001b[0;34m[\u001b[0m\u001b[0;34m'Forecast'\u001b[0m\u001b[0;34m]\u001b[0m\u001b[0;34m.\u001b[0m\u001b[0mplot\u001b[0m\u001b[0;34m(\u001b[0m\u001b[0mlabel\u001b[0m\u001b[0;34m=\u001b[0m\u001b[0;34m'forecast'\u001b[0m\u001b[0;34m)\u001b[0m\u001b[0;34m\u001b[0m\u001b[0;34m\u001b[0m\u001b[0m\n\u001b[0;32m----> 4\u001b[0;31m \u001b[0mdf\u001b[0m\u001b[0;34m.\u001b[0m\u001b[0mlegend\u001b[0m\u001b[0;34m(\u001b[0m\u001b[0;34m)\u001b[0m\u001b[0;34m\u001b[0m\u001b[0;34m\u001b[0m\u001b[0m\n\u001b[0m",
            "\u001b[0;32m/usr/local/lib/python3.7/dist-packages/pandas/core/generic.py\u001b[0m in \u001b[0;36m__getattr__\u001b[0;34m(self, name)\u001b[0m\n\u001b[1;32m   5139\u001b[0m             \u001b[0;32mif\u001b[0m \u001b[0mself\u001b[0m\u001b[0;34m.\u001b[0m\u001b[0m_info_axis\u001b[0m\u001b[0;34m.\u001b[0m\u001b[0m_can_hold_identifiers_and_holds_name\u001b[0m\u001b[0;34m(\u001b[0m\u001b[0mname\u001b[0m\u001b[0;34m)\u001b[0m\u001b[0;34m:\u001b[0m\u001b[0;34m\u001b[0m\u001b[0;34m\u001b[0m\u001b[0m\n\u001b[1;32m   5140\u001b[0m                 \u001b[0;32mreturn\u001b[0m \u001b[0mself\u001b[0m\u001b[0;34m[\u001b[0m\u001b[0mname\u001b[0m\u001b[0;34m]\u001b[0m\u001b[0;34m\u001b[0m\u001b[0;34m\u001b[0m\u001b[0m\n\u001b[0;32m-> 5141\u001b[0;31m             \u001b[0;32mreturn\u001b[0m \u001b[0mobject\u001b[0m\u001b[0;34m.\u001b[0m\u001b[0m__getattribute__\u001b[0m\u001b[0;34m(\u001b[0m\u001b[0mself\u001b[0m\u001b[0;34m,\u001b[0m \u001b[0mname\u001b[0m\u001b[0;34m)\u001b[0m\u001b[0;34m\u001b[0m\u001b[0;34m\u001b[0m\u001b[0m\n\u001b[0m\u001b[1;32m   5142\u001b[0m \u001b[0;34m\u001b[0m\u001b[0m\n\u001b[1;32m   5143\u001b[0m     \u001b[0;32mdef\u001b[0m \u001b[0m__setattr__\u001b[0m\u001b[0;34m(\u001b[0m\u001b[0mself\u001b[0m\u001b[0;34m,\u001b[0m \u001b[0mname\u001b[0m\u001b[0;34m:\u001b[0m \u001b[0mstr\u001b[0m\u001b[0;34m,\u001b[0m \u001b[0mvalue\u001b[0m\u001b[0;34m)\u001b[0m \u001b[0;34m->\u001b[0m \u001b[0;32mNone\u001b[0m\u001b[0;34m:\u001b[0m\u001b[0;34m\u001b[0m\u001b[0;34m\u001b[0m\u001b[0m\n",
            "\u001b[0;31mAttributeError\u001b[0m: 'DataFrame' object has no attribute 'legend'"
          ]
        },
        {
          "output_type": "display_data",
          "data": {
            "image/png": "[encoded data removed]",
            "text/plain": [
              "<Figure size 864x432 with 1 Axes>"
            ]
          },
          "metadata": {}
        }
      ]
    },
    {
      "cell_type": "code",
      "metadata": {
        "id": "DeXmMaeB9iv_"
      },
      "source": [
        ""
      ],
      "execution_count": null,
      "outputs": []
    }
  ]
}